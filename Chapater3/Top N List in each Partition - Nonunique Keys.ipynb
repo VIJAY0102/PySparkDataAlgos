{
 "cells": [
  {
   "cell_type": "markdown",
   "metadata": {},
   "source": [
    "Page_No: 62 - \n",
    "# Top N List in each Partition - Nonunique Keys"
   ]
  },
  {
   "cell_type": "code",
   "execution_count": 1,
   "metadata": {},
   "outputs": [],
   "source": [
    "topNnonUni = \"./DataSet/topNnonUni.csv\"\n",
    "f1RDD = sc.textFile(topNnonUni)"
   ]
  },
  {
   "cell_type": "markdown",
   "metadata": {},
   "source": [
    "#### Creating PairRDD"
   ]
  },
  {
   "cell_type": "code",
   "execution_count": 2,
   "metadata": {},
   "outputs": [],
   "source": [
    "def parse(data):\n",
    "    dataList = data.split(',')\n",
    "    return (dataList[0], int(dataList[1]))\n",
    "f1PRDD = f1RDD.map(parse)"
   ]
  },
  {
   "cell_type": "code",
   "execution_count": 3,
   "metadata": {},
   "outputs": [],
   "source": [
    "# Broadcast the N value\n",
    "nValue = sc.broadcast(3)"
   ]
  },
  {
   "cell_type": "markdown",
   "metadata": {},
   "source": [
    "#### Removing Nonunique keys"
   ]
  },
  {
   "cell_type": "code",
   "execution_count": 4,
   "metadata": {},
   "outputs": [],
   "source": [
    "f1PRDD = f1PRDD.reduceByKey(lambda x, y: x + y)"
   ]
  },
  {
   "cell_type": "markdown",
   "metadata": {},
   "source": [
    "#### Partitioning the Pair RDD\n",
    "* What is the right number of partitions? \n",
    "    * There is no magic bullet for calculating the number of partitions. \n",
    "    * It depends on the number of cluster nodes, the number of cores per server, and the size of RAM available. \n",
    "    * The general rule of thumb is to use (2 × num_executors × cores_per_executor) per executor.\n",
    "        Here executors means slave "
   ]
  },
  {
   "cell_type": "code",
   "execution_count": 5,
   "metadata": {},
   "outputs": [],
   "source": [
    "def partitionSort(data):\n",
    "    dataList = list(data)\n",
    "    dataList = sorted(dataList, key=lambda x: x[1], reverse=True)\n",
    "    if len(dataList) > nValue.value:\n",
    "        dataList = [dataList[i] for i in range(0, 3)]\n",
    "    return (dataList)"
   ]
  },
  {
   "cell_type": "code",
   "execution_count": 8,
   "metadata": {},
   "outputs": [],
   "source": [
    "f2PRDD = f1PRDD.mapPartitions(partitionSort)"
   ]
  },
  {
   "cell_type": "code",
   "execution_count": 11,
   "metadata": {},
   "outputs": [
    {
     "data": {
      "text/plain": [
       "[[('C', 7)], [('G', 6), ('A', 5), ('B', 5)]]"
      ]
     },
     "execution_count": 11,
     "metadata": {},
     "output_type": "execute_result"
    }
   ],
   "source": [
    "f2PRDD.glom().collect()"
   ]
  },
  {
   "cell_type": "code",
   "execution_count": 13,
   "metadata": {},
   "outputs": [
    {
     "data": {
      "text/plain": [
       "[('C', 7), ('G', 6), ('A', 5)]"
      ]
     },
     "execution_count": 13,
     "metadata": {},
     "output_type": "execute_result"
    }
   ],
   "source": [
    "f2PRDD.takeOrdered(nValue.value, key=lambda iter1: -iter1[1])"
   ]
  },
  {
   "cell_type": "code",
   "execution_count": null,
   "metadata": {},
   "outputs": [],
   "source": []
  }
 ],
 "metadata": {
  "kernelspec": {
   "display_name": "Python 3",
   "language": "python",
   "name": "python3"
  },
  "language_info": {
   "codemirror_mode": {
    "name": "ipython",
    "version": 3
   },
   "file_extension": ".py",
   "mimetype": "text/x-python",
   "name": "python",
   "nbconvert_exporter": "python",
   "pygments_lexer": "ipython3",
   "version": "3.6.3"
  }
 },
 "nbformat": 4,
 "nbformat_minor": 2
}

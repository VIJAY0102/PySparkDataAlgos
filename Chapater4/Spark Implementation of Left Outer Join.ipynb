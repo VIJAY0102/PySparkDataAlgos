{
 "cells": [
  {
   "cell_type": "markdown",
   "metadata": {},
   "source": [
    "Pg.No: 95 - 107\n",
    "# Left Outer Join"
   ]
  },
  {
   "cell_type": "code",
   "execution_count": 1,
   "metadata": {},
   "outputs": [
    {
     "data": {
      "text/plain": [
       "[('u1', 'UT'), ('u2', 'GA'), ('u3', 'CA')]"
      ]
     },
     "execution_count": 1,
     "metadata": {},
     "output_type": "execute_result"
    }
   ],
   "source": [
    "def parseUser(data):\n",
    "    '''\n",
    "    changing to \n",
    "    list<tuple<user_id, location_id>>\n",
    "    '''\n",
    "    return tuple(data.split('|'))\n",
    "user_data = sc.textFile('./DataSet/users.txt').map(parseUser)\n",
    "user_data.take(3)"
   ]
  },
  {
   "cell_type": "code",
   "execution_count": 2,
   "metadata": {},
   "outputs": [
    {
     "data": {
      "text/plain": [
       "[('t1', 'p3', 'u1', 1, 300),\n",
       " ('t2', 'p1', 'u2', 1, 100),\n",
       " ('t3', 'p1', 'u1', 1, 100)]"
      ]
     },
     "execution_count": 2,
     "metadata": {},
     "output_type": "execute_result"
    }
   ],
   "source": [
    "def parseTransactions(data):\n",
    "    '''\n",
    "    changing to \n",
    "    list<tuple<transcation_id, product_id, user_id, quantity, amount>>\n",
    "    '''\n",
    "    dataList = data.split('|')\n",
    "    return (dataList[0], dataList[1], dataList[2], int(dataList[3]), int(dataList[4]))\n",
    "transactions_data = sc.textFile('./DataSet/transactions.txt').map(parseTransactions)\n",
    "transactions_data.take(3)"
   ]
  },
  {
   "cell_type": "code",
   "execution_count": 3,
   "metadata": {},
   "outputs": [],
   "source": [
    "# PairRDD -> changing list<tuple<user_id, location_id>> to list<tuple<user_id, tuple<'L', location_id>>>\n",
    "userPairRDD = user_data.map(lambda iter1: (iter1[0],('L', iter1[1])))"
   ]
  },
  {
   "cell_type": "code",
   "execution_count": 4,
   "metadata": {},
   "outputs": [
    {
     "data": {
      "text/plain": [
       "[('u1', ('L', 'UT')),\n",
       " ('u2', ('L', 'GA')),\n",
       " ('u3', ('L', 'CA')),\n",
       " ('u4', ('L', 'CA'))]"
      ]
     },
     "execution_count": 4,
     "metadata": {},
     "output_type": "execute_result"
    }
   ],
   "source": [
    "userPairRDD.take(4)"
   ]
  },
  {
   "cell_type": "code",
   "execution_count": 5,
   "metadata": {},
   "outputs": [],
   "source": [
    "# PairRDD -> changing list<tuple<user_id, location_id>> to list<tuple<user_id, tuple<'P', product_id>>>\n",
    "transactionPairRDD = transactions_data.map(lambda iter1: (iter1[2], ('P', iter1[1])))"
   ]
  },
  {
   "cell_type": "code",
   "execution_count": 6,
   "metadata": {},
   "outputs": [
    {
     "data": {
      "text/plain": [
       "[('u1', ('P', 'p3')),\n",
       " ('u2', ('P', 'p1')),\n",
       " ('u1', ('P', 'p1')),\n",
       " ('u2', ('P', 'p2'))]"
      ]
     },
     "execution_count": 6,
     "metadata": {},
     "output_type": "execute_result"
    }
   ],
   "source": [
    "transactionPairRDD.take(4)"
   ]
  },
  {
   "cell_type": "code",
   "execution_count": 7,
   "metadata": {},
   "outputs": [],
   "source": [
    "# union both transaction and user PairRDD\n",
    "utUnionRDD = transactionPairRDD.union(userPairRDD)"
   ]
  },
  {
   "cell_type": "code",
   "execution_count": 8,
   "metadata": {},
   "outputs": [
    {
     "data": {
      "text/plain": [
       "[('u1', ('P', 'p3')),\n",
       " ('u2', ('P', 'p1')),\n",
       " ('u1', ('P', 'p1')),\n",
       " ('u2', ('P', 'p2')),\n",
       " ('u4', ('P', 'p4')),\n",
       " ('u1', ('P', 'p1')),\n",
       " ('u1', ('P', 'p4')),\n",
       " ('u5', ('P', 'p4')),\n",
       " ('u1', ('L', 'UT')),\n",
       " ('u2', ('L', 'GA')),\n",
       " ('u3', ('L', 'CA')),\n",
       " ('u4', ('L', 'CA')),\n",
       " ('u5', ('L', 'GA'))]"
      ]
     },
     "execution_count": 8,
     "metadata": {},
     "output_type": "execute_result"
    }
   ],
   "source": [
    "utUnionRDD.collect()"
   ]
  },
  {
   "cell_type": "code",
   "execution_count": 9,
   "metadata": {},
   "outputs": [],
   "source": [
    "utGrpbyKey = utUnionRDD.groupByKey()\n",
    "# groupbykey makes ResultIterable we need to change it datatype to list\n",
    "# see next statement"
   ]
  },
  {
   "cell_type": "code",
   "execution_count": 10,
   "metadata": {},
   "outputs": [
    {
     "data": {
      "text/plain": [
       "[('u5', [('P', 'p4'), ('L', 'GA')]),\n",
       " ('u2', [('P', 'p1'), ('P', 'p2'), ('L', 'GA')]),\n",
       " ('u4', [('P', 'p4'), ('L', 'CA')]),\n",
       " ('u1', [('P', 'p3'), ('P', 'p1'), ('P', 'p1'), ('P', 'p4'), ('L', 'UT')])]"
      ]
     },
     "execution_count": 10,
     "metadata": {},
     "output_type": "execute_result"
    }
   ],
   "source": [
    "utGrpByKeyVal = utGrpbyKey.mapValues(lambda x: list(x))\n",
    "utGrpByKeyVal.take(4)"
   ]
  },
  {
   "cell_type": "code",
   "execution_count": 11,
   "metadata": {},
   "outputs": [],
   "source": [
    "# Here removing user_id, and flat the values to list<tuple<product, location>>\n",
    "def flatMapValue(data):\n",
    "    products = []\n",
    "    productList = data[1][: -1]\n",
    "    location = data[1][-1]\n",
    "    for product in productList:\n",
    "        products.append((product[1], location[1]))\n",
    "    return products\n",
    "utGrpByKV = utGrpByKeyVal.map(flatMapValue).flatMap(lambda iter1: iter1)"
   ]
  },
  {
   "cell_type": "code",
   "execution_count": 12,
   "metadata": {},
   "outputs": [
    {
     "data": {
      "text/plain": [
       "[('p4', 'GA'), ('p1', 'GA'), ('p2', 'GA'), ('p4', 'CA')]"
      ]
     },
     "execution_count": 12,
     "metadata": {},
     "output_type": "execute_result"
    }
   ],
   "source": [
    "utGrpByKV.take(4)"
   ]
  },
  {
   "cell_type": "code",
   "execution_count": 13,
   "metadata": {},
   "outputs": [
    {
     "data": {
      "text/plain": [
       "[('p4', (['GA', 'CA', 'UT'], 3)),\n",
       " ('p1', (['GA', 'UT'], 2)),\n",
       " ('p2', (['GA'], 1)),\n",
       " ('p3', (['UT'], 1))]"
      ]
     },
     "execution_count": 13,
     "metadata": {},
     "output_type": "execute_result"
    }
   ],
   "source": [
    "def removeDuplicate(data):\n",
    "    '''\n",
    "    set -> to remove duplicate locations from ResultIterables\n",
    "    '''\n",
    "    dataset = list(set(data))\n",
    "    return (dataset, len(dataset))\n",
    "utGrpByKV.groupByKey().mapValues(removeDuplicate).collect()"
   ]
  }
 ],
 "metadata": {
  "kernelspec": {
   "display_name": "Python 3",
   "language": "python",
   "name": "python3"
  },
  "language_info": {
   "codemirror_mode": {
    "name": "ipython",
    "version": 3
   },
   "file_extension": ".py",
   "mimetype": "text/x-python",
   "name": "python",
   "nbconvert_exporter": "python",
   "pygments_lexer": "ipython3",
   "version": "3.6.3"
  }
 },
 "nbformat": 4,
 "nbformat_minor": 2
}
